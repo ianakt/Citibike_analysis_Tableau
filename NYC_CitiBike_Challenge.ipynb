{
 "cells": [
  {
   "cell_type": "code",
   "execution_count": 35,
   "metadata": {},
   "outputs": [],
   "source": [
    "import pandas as pd\n",
    "import datetime"
   ]
  },
  {
   "cell_type": "code",
   "execution_count": 2,
   "metadata": {},
   "outputs": [],
   "source": [
    "# 1. Create a DataFrame for the 201908-citibike-tripdata data. \n",
    "citi_bikes_data = \"201908-citibike-tripdata.csv\""
   ]
  },
  {
   "cell_type": "code",
   "execution_count": 9,
   "metadata": {},
   "outputs": [
    {
     "data": {
      "text/plain": [
       "tripduration                 int64\n",
       "starttime                   object\n",
       "stoptime                    object\n",
       "start station id           float64\n",
       "start station name          object\n",
       "start station latitude     float64\n",
       "start station longitude    float64\n",
       "end station id             float64\n",
       "end station name            object\n",
       "end station latitude       float64\n",
       "end station longitude      float64\n",
       "bikeid                       int64\n",
       "usertype                    object\n",
       "birth year                   int64\n",
       "gender                       int64\n",
       "dtype: object"
      ]
     },
     "execution_count": 9,
     "metadata": {},
     "output_type": "execute_result"
    }
   ],
   "source": [
    "# 2. Check the datatypes of your columns. \n",
    "citi_bike_DF = pd.read_csv(citi_bikes_data)\n",
    "citi_bike_DF.dtypes"
   ]
  },
  {
   "cell_type": "code",
   "execution_count": 27,
   "metadata": {},
   "outputs": [],
   "source": [
    "# 3. Convert the 'tripduration' column to datetime datatype.\n"
   ]
  },
  {
   "cell_type": "code",
   "execution_count": 6,
   "metadata": {},
   "outputs": [],
   "source": [
    "# 4. Check the datatypes of your columns. \n"
   ]
  },
  {
   "cell_type": "code",
   "execution_count": 7,
   "metadata": {},
   "outputs": [],
   "source": [
    "# 5. Export the Dataframe as a new CSV file without the index.\n"
   ]
  },
  {
   "cell_type": "code",
   "execution_count": 14,
   "metadata": {},
   "outputs": [],
   "source": [
    "Cdraft = pd.read_csv(citi_bikes_data)\n"
   ]
  },
  {
   "cell_type": "code",
   "execution_count": 38,
   "metadata": {},
   "outputs": [
    {
     "data": {
      "text/plain": [
       "0           393\n",
       "1           627\n",
       "2          1132\n",
       "3          1780\n",
       "4          1517\n",
       "           ... \n",
       "2344219     216\n",
       "2344220     117\n",
       "2344221    1614\n",
       "2344222    1301\n",
       "2344223     419\n",
       "Name: tripduration, Length: 2344224, dtype: int64"
      ]
     },
     "execution_count": 38,
     "metadata": {},
     "output_type": "execute_result"
    }
   ],
   "source": [
    "Cdraft['tripduration']"
   ]
  },
  {
   "cell_type": "code",
   "execution_count": 39,
   "metadata": {},
   "outputs": [
    {
     "data": {
      "text/plain": [
       "0         0 days 00:06:33\n",
       "1         0 days 00:10:27\n",
       "2         0 days 00:18:52\n",
       "3         0 days 00:29:40\n",
       "4         0 days 00:25:17\n",
       "                ...      \n",
       "2344219   0 days 00:03:36\n",
       "2344220   0 days 00:01:57\n",
       "2344221   0 days 00:26:54\n",
       "2344222   0 days 00:21:41\n",
       "2344223   0 days 00:06:59\n",
       "Name: tripduration, Length: 2344224, dtype: timedelta64[ns]"
      ]
     },
     "execution_count": 39,
     "metadata": {},
     "output_type": "execute_result"
    }
   ],
   "source": [
    "time_in_minutes = pd.to_timedelta(Cdraft['tripduration'], unit='s')\n",
    "time_in_minutes"
   ]
  },
  {
   "cell_type": "code",
   "execution_count": 28,
   "metadata": {},
   "outputs": [
    {
     "data": {
      "text/plain": [
       "0           393\n",
       "1           627\n",
       "2          1132\n",
       "3          1780\n",
       "4          1517\n",
       "           ... \n",
       "2344219     216\n",
       "2344220     117\n",
       "2344221    1614\n",
       "2344222    1301\n",
       "2344223     419\n",
       "Name: tripduration, Length: 2344224, dtype: int64"
      ]
     },
     "execution_count": 28,
     "metadata": {},
     "output_type": "execute_result"
    }
   ],
   "source": [
    "Cdraft"
   ]
  },
  {
   "cell_type": "code",
   "execution_count": null,
   "metadata": {},
   "outputs": [],
   "source": []
  },
  {
   "cell_type": "code",
   "execution_count": null,
   "metadata": {},
   "outputs": [],
   "source": []
  },
  {
   "cell_type": "code",
   "execution_count": 32,
   "metadata": {},
   "outputs": [],
   "source": [
    "\n",
    "Cdraft2 = pd.DataFrame([{\"tripduration\":time_in_minutes                 ,\n",
    "\"starttime\":Cdraft[\"starttime\"]                   ,\n",
    "\"stoptime\":Cdraft[\"stoptime\"]                    ,\n",
    "\"start station id\":Cdraft[\"start station id\"]           ,\n",
    "\"start station name\":Cdraft[\"start station name\"]          ,\n",
    "\"start station latitude\":Cdraft[\"start station latitude\"]     ,\n",
    "\"start station longitude\":Cdraft[\"start station longitude\"]    ,\n",
    "\"end station id\":Cdraft[\"end station id\"]             ,\n",
    "\"end station name\":Cdraft[\"end station name\"]            ,\n",
    "\"end station latitude\":Cdraft[\"end station latitude\"]       ,\n",
    "\"end station longitude\":Cdraft[\"end station longitude\"]      ,\n",
    "\"bikeid\":Cdraft[\"bikeid\"]                       ,\n",
    "\"usertype\":Cdraft[\"usertype\"]                    ,\n",
    "\"birth year\":Cdraft[\"birth year\"]                   ,\n",
    "\"gender\":Cdraft[\"gender\"]  }]                     \n",
    ")"
   ]
  },
  {
   "cell_type": "code",
   "execution_count": 33,
   "metadata": {},
   "outputs": [
    {
     "data": {
      "text/html": [
       "<div>\n",
       "<style scoped>\n",
       "    .dataframe tbody tr th:only-of-type {\n",
       "        vertical-align: middle;\n",
       "    }\n",
       "\n",
       "    .dataframe tbody tr th {\n",
       "        vertical-align: top;\n",
       "    }\n",
       "\n",
       "    .dataframe thead th {\n",
       "        text-align: right;\n",
       "    }\n",
       "</style>\n",
       "<table border=\"1\" class=\"dataframe\">\n",
       "  <thead>\n",
       "    <tr style=\"text-align: right;\">\n",
       "      <th></th>\n",
       "      <th>tripduration</th>\n",
       "      <th>starttime</th>\n",
       "      <th>stoptime</th>\n",
       "      <th>start station id</th>\n",
       "      <th>start station name</th>\n",
       "      <th>start station latitude</th>\n",
       "      <th>start station longitude</th>\n",
       "      <th>end station id</th>\n",
       "      <th>end station name</th>\n",
       "      <th>end station latitude</th>\n",
       "      <th>end station longitude</th>\n",
       "      <th>bikeid</th>\n",
       "      <th>usertype</th>\n",
       "      <th>birth year</th>\n",
       "      <th>gender</th>\n",
       "    </tr>\n",
       "  </thead>\n",
       "  <tbody>\n",
       "    <tr>\n",
       "      <th>0</th>\n",
       "      <td>0         1970-01-01 06:33:00\n",
       "1         1970-0...</td>\n",
       "      <td>0          2019-08-01 00:00:01.4680\n",
       "1         ...</td>\n",
       "      <td>0          2019-08-01 00:06:35.3780\n",
       "1         ...</td>\n",
       "      <td>0           531.0\n",
       "1           274.0\n",
       "2         ...</td>\n",
       "      <td>0                  Forsyth St &amp; Broome St\n",
       "1   ...</td>\n",
       "      <td>0          40.718939\n",
       "1          40.686919\n",
       "2   ...</td>\n",
       "      <td>0         -73.992663\n",
       "1         -73.976682\n",
       "2   ...</td>\n",
       "      <td>0           408.0\n",
       "1          3409.0\n",
       "2         ...</td>\n",
       "      <td>0               Market St &amp; Cherry St\n",
       "1       ...</td>\n",
       "      <td>0          40.710762\n",
       "1          40.686744\n",
       "2   ...</td>\n",
       "      <td>0         -73.994004\n",
       "1         -73.990632\n",
       "2   ...</td>\n",
       "      <td>0          35305\n",
       "1          38822\n",
       "2          1...</td>\n",
       "      <td>0          Subscriber\n",
       "1          Subscriber\n",
       "2 ...</td>\n",
       "      <td>0          1996\n",
       "1          1998\n",
       "2          198...</td>\n",
       "      <td>0          2\n",
       "1          2\n",
       "2          1\n",
       "3      ...</td>\n",
       "    </tr>\n",
       "  </tbody>\n",
       "</table>\n",
       "</div>"
      ],
      "text/plain": [
       "                                        tripduration  \\\n",
       "0  0         1970-01-01 06:33:00\n",
       "1         1970-0...   \n",
       "\n",
       "                                           starttime  \\\n",
       "0  0          2019-08-01 00:00:01.4680\n",
       "1         ...   \n",
       "\n",
       "                                            stoptime  \\\n",
       "0  0          2019-08-01 00:06:35.3780\n",
       "1         ...   \n",
       "\n",
       "                                    start station id  \\\n",
       "0  0           531.0\n",
       "1           274.0\n",
       "2         ...   \n",
       "\n",
       "                                  start station name  \\\n",
       "0  0                  Forsyth St & Broome St\n",
       "1   ...   \n",
       "\n",
       "                              start station latitude  \\\n",
       "0  0          40.718939\n",
       "1          40.686919\n",
       "2   ...   \n",
       "\n",
       "                             start station longitude  \\\n",
       "0  0         -73.992663\n",
       "1         -73.976682\n",
       "2   ...   \n",
       "\n",
       "                                      end station id  \\\n",
       "0  0           408.0\n",
       "1          3409.0\n",
       "2         ...   \n",
       "\n",
       "                                    end station name  \\\n",
       "0  0               Market St & Cherry St\n",
       "1       ...   \n",
       "\n",
       "                                end station latitude  \\\n",
       "0  0          40.710762\n",
       "1          40.686744\n",
       "2   ...   \n",
       "\n",
       "                               end station longitude  \\\n",
       "0  0         -73.994004\n",
       "1         -73.990632\n",
       "2   ...   \n",
       "\n",
       "                                              bikeid  \\\n",
       "0  0          35305\n",
       "1          38822\n",
       "2          1...   \n",
       "\n",
       "                                            usertype  \\\n",
       "0  0          Subscriber\n",
       "1          Subscriber\n",
       "2 ...   \n",
       "\n",
       "                                          birth year  \\\n",
       "0  0          1996\n",
       "1          1998\n",
       "2          198...   \n",
       "\n",
       "                                              gender  \n",
       "0  0          2\n",
       "1          2\n",
       "2          1\n",
       "3      ...  "
      ]
     },
     "execution_count": 33,
     "metadata": {},
     "output_type": "execute_result"
    }
   ],
   "source": [
    "Cdraft2"
   ]
  },
  {
   "cell_type": "code",
   "execution_count": null,
   "metadata": {},
   "outputs": [],
   "source": []
  }
 ],
 "metadata": {
  "kernelspec": {
   "display_name": "PytonData",
   "language": "python",
   "name": "pytondata"
  },
  "language_info": {
   "codemirror_mode": {
    "name": "ipython",
    "version": 3
   },
   "file_extension": ".py",
   "mimetype": "text/x-python",
   "name": "python",
   "nbconvert_exporter": "python",
   "pygments_lexer": "ipython3",
   "version": "3.7.11"
  }
 },
 "nbformat": 4,
 "nbformat_minor": 4
}
